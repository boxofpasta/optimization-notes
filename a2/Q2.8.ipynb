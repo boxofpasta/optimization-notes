{
 "cells": [
  {
   "cell_type": "markdown",
   "metadata": {},
   "source": [
    "## Q2.8 ##\n",
    "\n",
    "### a) ###"
   ]
  },
  {
   "cell_type": "code",
   "execution_count": 20,
   "metadata": {},
   "outputs": [
    {
     "name": "stdout",
     "output_type": "stream",
     "text": [
      "Each column in A sums to 1.\n"
     ]
    }
   ],
   "source": [
    "import numpy as np\n",
    "import os\n",
    "import scipy.io as sio\n",
    "\n",
    "# Helper functions.\n",
    "def norm(x):\n",
    "    return np.sqrt(np.sum(x ** 2))\n",
    "\n",
    "# Load data.\n",
    "data_folder = 'PS02_dataSet'\n",
    "J = sio.loadmat(os.path.join(data_folder, 'pagerank_adj.mat'))['J']\n",
    "J = np.float64(J)\n",
    "\n",
    "# Create A and verify column sums.\n",
    "A = J / np.sum(J, axis=0)\n",
    "A_col_sums = np.sum(A, axis=0)\n",
    "max_allowable_err = 1E-5\n",
    "for col in A_col_sums:\n",
    "    assert np.abs(col - 1.0) < max_allowable_err, 'No way!'\n",
    "print('Each column in A sums to 1.')"
   ]
  },
  {
   "cell_type": "markdown",
   "metadata": {},
   "source": [
    "### b) ###"
   ]
  },
  {
   "cell_type": "code",
   "execution_count": 42,
   "metadata": {},
   "outputs": [
    {
     "data": {
      "text/html": [
       "<script>requirejs.config({paths: { 'plotly': ['https://cdn.plot.ly/plotly-latest.min']},});if(!window.Plotly) {{require(['plotly'],function(plotly) {window.Plotly=plotly;});}}</script>"
      ],
      "text/vnd.plotly.v1+html": [
       "<script>requirejs.config({paths: { 'plotly': ['https://cdn.plot.ly/plotly-latest.min']},});if(!window.Plotly) {{require(['plotly'],function(plotly) {window.Plotly=plotly;});}}</script>"
      ]
     },
     "metadata": {},
     "output_type": "display_data"
    },
    {
     "data": {
      "application/vnd.plotly.v1+json": {
       "data": [
        {
         "mode": "lines",
         "name": "Vanilla Power Iteration",
         "type": "scatter",
         "uid": "53704104-cb64-11e8-b4cc-086266448fb7",
         "x": [
          0,
          1,
          2,
          3,
          4,
          5,
          6,
          7,
          8,
          9,
          10
         ],
         "y": [
          0,
          -0.47808361053466797,
          -0.7851423025131226,
          -1.0752480030059814,
          -1.2710800170898438,
          -1.4498445987701416,
          -1.6504095792770386,
          -1.6895064115524292,
          -1.8971577882766724,
          -1.974657416343689,
          -2.0738821029663086
         ]
        }
       ],
       "layout": {}
      },
      "text/html": [
       "<div id=\"79b8244e-73e4-4c83-a3f3-a1691590569a\" style=\"height: 525px; width: 100%;\" class=\"plotly-graph-div\"></div><script type=\"text/javascript\">require([\"plotly\"], function(Plotly) { window.PLOTLYENV=window.PLOTLYENV || {};window.PLOTLYENV.BASE_URL=\"https://plot.ly\";Plotly.newPlot(\"79b8244e-73e4-4c83-a3f3-a1691590569a\", [{\"uid\": \"53704105-cb64-11e8-b4cc-086266448fb7\", \"mode\": \"lines\", \"y\": [0.0, -0.47808361053466797, -0.7851423025131226, -1.0752480030059814, -1.2710800170898438, -1.4498445987701416, -1.6504095792770386, -1.6895064115524292, -1.8971577882766724, -1.974657416343689, -2.0738821029663086], \"x\": [0, 1, 2, 3, 4, 5, 6, 7, 8, 9, 10], \"type\": \"scatter\", \"name\": \"Vanilla Power Iteration\"}], {}, {\"linkText\": \"Export to plot.ly\", \"showLink\": true})});</script>"
      ],
      "text/vnd.plotly.v1+html": [
       "<div id=\"79b8244e-73e4-4c83-a3f3-a1691590569a\" style=\"height: 525px; width: 100%;\" class=\"plotly-graph-div\"></div><script type=\"text/javascript\">require([\"plotly\"], function(Plotly) { window.PLOTLYENV=window.PLOTLYENV || {};window.PLOTLYENV.BASE_URL=\"https://plot.ly\";Plotly.newPlot(\"79b8244e-73e4-4c83-a3f3-a1691590569a\", [{\"uid\": \"53704105-cb64-11e8-b4cc-086266448fb7\", \"mode\": \"lines\", \"y\": [0.0, -0.47808361053466797, -0.7851423025131226, -1.0752480030059814, -1.2710800170898438, -1.4498445987701416, -1.6504095792770386, -1.6895064115524292, -1.8971577882766724, -1.974657416343689, -2.0738821029663086], \"x\": [0, 1, 2, 3, 4, 5, 6, 7, 8, 9, 10], \"type\": \"scatter\", \"name\": \"Vanilla Power Iteration\"}], {}, {\"linkText\": \"Export to plot.ly\", \"showLink\": true})});</script>"
      ]
     },
     "metadata": {},
     "output_type": "display_data"
    }
   ],
   "source": [
    "import plotly.offline as py\n",
    "import plotly.graph_objs as go\n",
    "py.offline.init_notebook_mode(connected=True)\n",
    "\n",
    "def init_x(length):\n",
    "    return np.random.uniform(0, 1, length)\n",
    "\n",
    "power_iters = 10\n",
    "power_iter_errors = [0]\n",
    "x_1 = init_x(len(A))\n",
    "x_1 /= norm(x_1)\n",
    "identity = np.identity(len(A))\n",
    "for i in range(power_iters):\n",
    "    y = np.matmul(A, x_1)\n",
    "    x_1 = y / norm(y)\n",
    "    A_x = np.matmul(A, x_1)\n",
    "    eigenval = np.matmul(x_1.T, A_x)\n",
    "    err = np.log(norm(A_x - x_1))\n",
    "    power_iter_errors.append(err)\n",
    "\n",
    "# Plotting.\n",
    "trace1 = go.Scatter(\n",
    "    x = np.arange(len(power_iter_errors)),\n",
    "    y = np.array(power_iter_errors).astype(np.float32),\n",
    "    mode = 'lines',\n",
    "    name = 'Vanilla Power Iteration'\n",
    ")\n",
    "\n",
    "data = [trace1]\n",
    "py.iplot(data, filename='power-iteration-errors')"
   ]
  },
  {
   "cell_type": "markdown",
   "metadata": {},
   "source": [
    "### c) ###"
   ]
  },
  {
   "cell_type": "code",
   "execution_count": 47,
   "metadata": {
    "scrolled": true
   },
   "outputs": [
    {
     "name": "stdout",
     "output_type": "stream",
     "text": [
      "0.99\n",
      "0.99\n",
      "1.0003825451392023\n",
      "1.0001625687802904\n",
      "1.0000533764371777\n",
      "1.0000046238680838\n",
      "1.0000000383288954\n",
      "1.000000000002663\n",
      "1.000000000002663\n",
      "1.000000000002663\n"
     ]
    },
    {
     "data": {
      "application/vnd.plotly.v1+json": {
       "data": [
        {
         "mode": "lines",
         "name": "Vanilla Power Iteration",
         "type": "scatter",
         "uid": "78d711de-cb64-11e8-b4cc-086266448fb7",
         "x": [
          0,
          1,
          2,
          3,
          4,
          5,
          6,
          7,
          8,
          9,
          10
         ],
         "y": [
          0,
          -0.47808361053466797,
          -0.7851423025131226,
          -1.0752480030059814,
          -1.2710800170898438,
          -1.4498445987701416,
          -1.6504095792770386,
          -1.6895064115524292,
          -1.8971577882766724,
          -1.974657416343689,
          -2.0738821029663086
         ]
        },
        {
         "mode": "lines",
         "name": "Shifted Inverse",
         "type": "scatter",
         "uid": "78d711df-cb64-11e8-b4cc-086266448fb7",
         "x": [
          0,
          1,
          2,
          3,
          4,
          5,
          6,
          7,
          8,
          9,
          10
         ],
         "y": [
          0,
          -4.617920398712158,
          -6.560872554779053,
          -6.745089054107666,
          -7.043945789337158,
          -6.9913716316223145,
          -7.094636917114258,
          -7.059437274932861,
          -7.121665000915527,
          -7.101288795471191,
          -7.151412010192871
         ]
        },
        {
         "mode": "lines",
         "name": "Rayleigh",
         "type": "scatter",
         "uid": "78d711e0-cb64-11e8-b4cc-086266448fb7",
         "x": [
          0,
          1,
          2,
          3,
          4,
          5,
          6,
          7,
          8,
          9,
          10
         ],
         "y": [
          0,
          -4.618027687072754,
          -6.594197750091553,
          -7.743247032165527,
          -9.510239601135254,
          -12.025455474853516,
          -16.823781967163086,
          -26.39838409423828,
          -35.53107833862305,
          -36.300838470458984,
          -36.810325622558594
         ]
        }
       ],
       "layout": {}
      },
      "text/html": [
       "<div id=\"0b6b5d04-b4a9-4298-8685-352a50823a21\" style=\"height: 525px; width: 100%;\" class=\"plotly-graph-div\"></div><script type=\"text/javascript\">require([\"plotly\"], function(Plotly) { window.PLOTLYENV=window.PLOTLYENV || {};window.PLOTLYENV.BASE_URL=\"https://plot.ly\";Plotly.newPlot(\"0b6b5d04-b4a9-4298-8685-352a50823a21\", [{\"uid\": \"78d711e1-cb64-11e8-b4cc-086266448fb7\", \"mode\": \"lines\", \"y\": [0.0, -0.47808361053466797, -0.7851423025131226, -1.0752480030059814, -1.2710800170898438, -1.4498445987701416, -1.6504095792770386, -1.6895064115524292, -1.8971577882766724, -1.974657416343689, -2.0738821029663086], \"x\": [0, 1, 2, 3, 4, 5, 6, 7, 8, 9, 10], \"type\": \"scatter\", \"name\": \"Vanilla Power Iteration\"}, {\"uid\": \"78d711e2-cb64-11e8-b4cc-086266448fb7\", \"mode\": \"lines\", \"y\": [0.0, -4.617920398712158, -6.560872554779053, -6.745089054107666, -7.043945789337158, -6.9913716316223145, -7.094636917114258, -7.059437274932861, -7.121665000915527, -7.101288795471191, -7.151412010192871], \"x\": [0, 1, 2, 3, 4, 5, 6, 7, 8, 9, 10], \"type\": \"scatter\", \"name\": \"Shifted Inverse\"}, {\"uid\": \"78d711e3-cb64-11e8-b4cc-086266448fb7\", \"mode\": \"lines\", \"y\": [0.0, -4.618027687072754, -6.594197750091553, -7.743247032165527, -9.510239601135254, -12.025455474853516, -16.823781967163086, -26.39838409423828, -35.53107833862305, -36.300838470458984, -36.810325622558594], \"x\": [0, 1, 2, 3, 4, 5, 6, 7, 8, 9, 10], \"type\": \"scatter\", \"name\": \"Rayleigh\"}], {}, {\"linkText\": \"Export to plot.ly\", \"showLink\": true})});</script>"
      ],
      "text/vnd.plotly.v1+html": [
       "<div id=\"0b6b5d04-b4a9-4298-8685-352a50823a21\" style=\"height: 525px; width: 100%;\" class=\"plotly-graph-div\"></div><script type=\"text/javascript\">require([\"plotly\"], function(Plotly) { window.PLOTLYENV=window.PLOTLYENV || {};window.PLOTLYENV.BASE_URL=\"https://plot.ly\";Plotly.newPlot(\"0b6b5d04-b4a9-4298-8685-352a50823a21\", [{\"uid\": \"78d711e1-cb64-11e8-b4cc-086266448fb7\", \"mode\": \"lines\", \"y\": [0.0, -0.47808361053466797, -0.7851423025131226, -1.0752480030059814, -1.2710800170898438, -1.4498445987701416, -1.6504095792770386, -1.6895064115524292, -1.8971577882766724, -1.974657416343689, -2.0738821029663086], \"x\": [0, 1, 2, 3, 4, 5, 6, 7, 8, 9, 10], \"type\": \"scatter\", \"name\": \"Vanilla Power Iteration\"}, {\"uid\": \"78d711e2-cb64-11e8-b4cc-086266448fb7\", \"mode\": \"lines\", \"y\": [0.0, -4.617920398712158, -6.560872554779053, -6.745089054107666, -7.043945789337158, -6.9913716316223145, -7.094636917114258, -7.059437274932861, -7.121665000915527, -7.101288795471191, -7.151412010192871], \"x\": [0, 1, 2, 3, 4, 5, 6, 7, 8, 9, 10], \"type\": \"scatter\", \"name\": \"Shifted Inverse\"}, {\"uid\": \"78d711e3-cb64-11e8-b4cc-086266448fb7\", \"mode\": \"lines\", \"y\": [0.0, -4.618027687072754, -6.594197750091553, -7.743247032165527, -9.510239601135254, -12.025455474853516, -16.823781967163086, -26.39838409423828, -35.53107833862305, -36.300838470458984, -36.810325622558594], \"x\": [0, 1, 2, 3, 4, 5, 6, 7, 8, 9, 10], \"type\": \"scatter\", \"name\": \"Rayleigh\"}], {}, {\"linkText\": \"Export to plot.ly\", \"showLink\": true})});</script>"
      ]
     },
     "metadata": {},
     "output_type": "display_data"
    }
   ],
   "source": [
    "# Shifted inverse power iteration algorithm.\n",
    "shifted_power_iter_errors = [0]\n",
    "sigma = 0.99\n",
    "x_2 = init_x(len(A))\n",
    "x_2 /= norm(x_2)\n",
    "shifted_inverse = np.linalg.inv(A - sigma * identity)\n",
    "for i in range(power_iters):\n",
    "    y = np.matmul(shifted_inverse, x_2)\n",
    "    x_2 = y / norm(y)\n",
    "    A_x = np.matmul(A, x_2)\n",
    "    err = np.log(norm(A_x - x_2))\n",
    "    shifted_power_iter_errors.append(err)\n",
    "\n",
    "# Rayleigh quotient iteration algorithm.\n",
    "# This one gives the lowest error so we will use its result\n",
    "# for our PageRank analysis.\n",
    "rayleigh_iter_errors = [0]\n",
    "sigma = 0.99\n",
    "x_3 = init_x(len(A))\n",
    "x_3 /= norm(x_3)\n",
    "for i in range(power_iters):\n",
    "    if i > 1 and np.abs(sigma - 1.0) >= 1E-10:\n",
    "        numerator = np.matmul(x_3.T, A_x)\n",
    "        sigma = numerator / np.matmul(x_3.T, x_3)\n",
    "    print(sigma)\n",
    "    shifted_inverse = np.linalg.inv(A - sigma * identity)\n",
    "    y = np.matmul(shifted_inverse, x_3)\n",
    "    x_3 = y / norm(y)\n",
    "    A_x = np.matmul(A, x_3)\n",
    "    err = np.log(norm(A_x - x_3))\n",
    "    rayleigh_iter_errors.append(err)\n",
    "\n",
    "# Plotting.\n",
    "trace2 = go.Scatter(\n",
    "    x = np.arange(len(shifted_power_iter_errors)),\n",
    "    y = np.array(shifted_power_iter_errors).astype(np.float32),\n",
    "    mode = 'lines',\n",
    "    name = 'Shifted Inverse'\n",
    ")\n",
    "trace3 = go.Scatter(\n",
    "    x = np.arange(len(rayleigh_iter_errors)),\n",
    "    y = np.array(rayleigh_iter_errors).astype(np.float32),\n",
    "    mode = 'lines',\n",
    "    name = 'Rayleigh'\n",
    ")\n",
    "data = [trace1, trace2, trace3]\n",
    "py.iplot(data, filename='all-algos-iteration-errors')"
   ]
  },
  {
   "cell_type": "markdown",
   "metadata": {},
   "source": [
    "### d) ###"
   ]
  },
  {
   "cell_type": "code",
   "execution_count": 48,
   "metadata": {
    "scrolled": true
   },
   "outputs": [
    {
     "name": "stdout",
     "output_type": "stream",
     "text": [
      "The top 5 page indices along with PageRank scores:\n",
      "Page Index: 424, Score: 0.08393629338252721\n",
      "Page Index: 986, Score: 0.041968146691263614\n",
      "Page Index: 987, Score: 0.04196814669126361\n",
      "Page Index: 985, Score: 0.031476110018447696\n",
      "Page Index: 930, Score: 0.023265929339250525\n",
      " \n",
      " \n",
      "The bottom 5 page indices along with PageRank scores:\n",
      "Page Index: 48, Score: 2.9332147503515276e-67\n",
      "Page Index: 23, Score: 2.5078709879776977e-67\n",
      "Page Index: 4, Score: 2.2574711521138488e-67\n",
      "Page Index: 1, Score: 2.228120094592619e-67\n",
      "Page Index: 10, Score: 2.1566811917873028e-67\n"
     ]
    }
   ],
   "source": [
    "k = 5\n",
    "x = np.abs(x_3)\n",
    "x = x / np.sum(x)\n",
    "sorted_indices = x.argsort()\n",
    "max_indices = sorted_indices[-k:][::-1]\n",
    "min_indices = sorted_indices[:k][::-1]\n",
    "\n",
    "# Top scores.\n",
    "print('The top ' + str(k) + ' page indices along with PageRank scores:')\n",
    "for i in range(k):\n",
    "    idx = max_indices[i]\n",
    "    print('Page Index: ' + str(1 + idx) + ', Score: ' + str(x[idx]))\n",
    "\n",
    "print(' ')\n",
    "print(' ')\n",
    "\n",
    "# Bottommost scores.\n",
    "print('The bottom ' + str(k) + ' page indices along with PageRank scores:')\n",
    "for i in range(k):\n",
    "    idx = min_indices[i]\n",
    "    print('Page Index: ' + str(1 + idx) + ', Score: ' + str(x[idx]))"
   ]
  },
  {
   "cell_type": "markdown",
   "metadata": {},
   "source": [
    "The top 5 webpages listed here are all homepages. This makes sense, since homepages are hubs from which all visitors must visit to access either general information or other pages' information. \n",
    "\n",
    "Some of the unpopular ones are either web pages that either obsolete / not supposed to be used, or simply fringe information that no one looks at. Unfortunately, I had trouble even loading some of these pages, but from the url name \"http://www1.hollins.edu/security/Default.htm\" one can guess that it's not commonly visited by students."
   ]
  }
 ],
 "metadata": {
  "kernelspec": {
   "display_name": "Python 2",
   "language": "python",
   "name": "python2"
  },
  "language_info": {
   "codemirror_mode": {
    "name": "ipython",
    "version": 2
   },
   "file_extension": ".py",
   "mimetype": "text/x-python",
   "name": "python",
   "nbconvert_exporter": "python",
   "pygments_lexer": "ipython2",
   "version": "2.7.13"
  }
 },
 "nbformat": 4,
 "nbformat_minor": 2
}
