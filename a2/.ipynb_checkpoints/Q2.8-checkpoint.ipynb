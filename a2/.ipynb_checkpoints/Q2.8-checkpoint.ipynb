{
 "cells": [
  {
   "cell_type": "markdown",
   "metadata": {},
   "source": [
    "## Q2.8 ##\n",
    "\n",
    "### a) ###"
   ]
  },
  {
   "cell_type": "code",
   "execution_count": 75,
   "metadata": {},
   "outputs": [
    {
     "name": "stdout",
     "output_type": "stream",
     "text": [
      "Each column in A sums to 1.\n"
     ]
    }
   ],
   "source": [
    "import numpy as np\n",
    "import os\n",
    "import scipy.io as sio\n",
    "\n",
    "# Helper functions.\n",
    "def norm(x):\n",
    "    return np.sqrt(np.sum(x ** 2))\n",
    "\n",
    "# Load data.\n",
    "data_folder = 'PS02_dataSet'\n",
    "J = sio.loadmat(os.path.join(data_folder, 'pagerank_adj.mat'))['J']\n",
    "J = np.float32(J)\n",
    "\n",
    "# Create A and verify column sums.\n",
    "A = J / np.sum(J, axis=0)\n",
    "A_col_sums = np.sum(A, axis=0)\n",
    "max_allowable_err = 1E-5\n",
    "for col in A_col_sums:\n",
    "    assert np.abs(col - 1.0) < max_allowable_err, 'No way!'\n",
    "print('Each column in A sums to 1.')"
   ]
  },
  {
   "cell_type": "markdown",
   "metadata": {},
   "source": [
    "### b) ###"
   ]
  },
  {
   "cell_type": "code",
   "execution_count": 134,
   "metadata": {},
   "outputs": [
    {
     "data": {
      "text/html": [
       "<script>requirejs.config({paths: { 'plotly': ['https://cdn.plot.ly/plotly-latest.min']},});if(!window.Plotly) {{require(['plotly'],function(plotly) {window.Plotly=plotly;});}}</script>"
      ],
      "text/vnd.plotly.v1+html": [
       "<script>requirejs.config({paths: { 'plotly': ['https://cdn.plot.ly/plotly-latest.min']},});if(!window.Plotly) {{require(['plotly'],function(plotly) {window.Plotly=plotly;});}}</script>"
      ]
     },
     "metadata": {},
     "output_type": "display_data"
    },
    {
     "name": "stderr",
     "output_type": "stream",
     "text": [
      "/nfs/ug/homes-5/l/litian17/venvs/jupyter-venv/lib/python2.7/site-packages/ipykernel_launcher.py:25: ComplexWarning:\n",
      "\n",
      "Casting complex values to real discards the imaginary part\n",
      "\n"
     ]
    },
    {
     "data": {
      "application/vnd.plotly.v1+json": {
       "data": [
        {
         "mode": "lines",
         "name": "Vanilla Power Iteration",
         "type": "scatter",
         "uid": "72f30402-cb60-11e8-b4cc-086266448fb7",
         "x": [
          0,
          1,
          2,
          3,
          4,
          5,
          6,
          7,
          8,
          9,
          10,
          11,
          12,
          13,
          14
         ],
         "y": [
          0,
          -0.44040143489837646,
          -0.7513322830200195,
          -1.05342698097229,
          -1.2500616312026978,
          -1.4303371906280518,
          -1.6483545303344727,
          -1.6770297288894653,
          -1.9001500606536865,
          -1.9889894723892212,
          -2.0903823375701904,
          -2.1756176948547363,
          -2.3395724296569824,
          -2.328115224838257,
          -2.461974620819092
         ]
        }
       ],
       "layout": {}
      },
      "text/html": [
       "<div id=\"b5a45ab7-f6b0-4bf2-996b-08796ae96d31\" style=\"height: 525px; width: 100%;\" class=\"plotly-graph-div\"></div><script type=\"text/javascript\">require([\"plotly\"], function(Plotly) { window.PLOTLYENV=window.PLOTLYENV || {};window.PLOTLYENV.BASE_URL=\"https://plot.ly\";Plotly.newPlot(\"b5a45ab7-f6b0-4bf2-996b-08796ae96d31\", [{\"uid\": \"72f30403-cb60-11e8-b4cc-086266448fb7\", \"mode\": \"lines\", \"y\": [0.0, -0.44040143489837646, -0.7513322830200195, -1.05342698097229, -1.2500616312026978, -1.4303371906280518, -1.6483545303344727, -1.6770297288894653, -1.9001500606536865, -1.9889894723892212, -2.0903823375701904, -2.1756176948547363, -2.3395724296569824, -2.328115224838257, -2.461974620819092], \"x\": [0, 1, 2, 3, 4, 5, 6, 7, 8, 9, 10, 11, 12, 13, 14], \"type\": \"scatter\", \"name\": \"Vanilla Power Iteration\"}], {}, {\"linkText\": \"Export to plot.ly\", \"showLink\": true})});</script>"
      ],
      "text/vnd.plotly.v1+html": [
       "<div id=\"b5a45ab7-f6b0-4bf2-996b-08796ae96d31\" style=\"height: 525px; width: 100%;\" class=\"plotly-graph-div\"></div><script type=\"text/javascript\">require([\"plotly\"], function(Plotly) { window.PLOTLYENV=window.PLOTLYENV || {};window.PLOTLYENV.BASE_URL=\"https://plot.ly\";Plotly.newPlot(\"b5a45ab7-f6b0-4bf2-996b-08796ae96d31\", [{\"uid\": \"72f30403-cb60-11e8-b4cc-086266448fb7\", \"mode\": \"lines\", \"y\": [0.0, -0.44040143489837646, -0.7513322830200195, -1.05342698097229, -1.2500616312026978, -1.4303371906280518, -1.6483545303344727, -1.6770297288894653, -1.9001500606536865, -1.9889894723892212, -2.0903823375701904, -2.1756176948547363, -2.3395724296569824, -2.328115224838257, -2.461974620819092], \"x\": [0, 1, 2, 3, 4, 5, 6, 7, 8, 9, 10, 11, 12, 13, 14], \"type\": \"scatter\", \"name\": \"Vanilla Power Iteration\"}], {}, {\"linkText\": \"Export to plot.ly\", \"showLink\": true})});</script>"
      ]
     },
     "metadata": {},
     "output_type": "display_data"
    }
   ],
   "source": [
    "import plotly.offline as py\n",
    "import plotly.graph_objs as go\n",
    "py.offline.init_notebook_mode(connected=True)\n",
    "\n",
    "def init_x(length):\n",
    "    return np.ones(length) / np.float32(length)\n",
    "\n",
    "power_iters = 14\n",
    "power_iter_errors = [0]\n",
    "x_1 = init_x(len(A))\n",
    "x_1 /= norm(x_1)\n",
    "identity = np.identity(len(A))\n",
    "for i in range(power_iters):\n",
    "    y = np.matmul(A, x_1)\n",
    "    x_1 = y / norm(y)\n",
    "    A_x = np.matmul(A, x_1)\n",
    "    eigenval = np.matmul(x_1.T, A_x)\n",
    "    err = np.log(norm(A_x - x_1))\n",
    "    power_iter_errors.append(err)\n",
    "\n",
    "# Plotting.\n",
    "trace1 = go.Scatter(\n",
    "    x = np.arange(len(power_iter_errors)),\n",
    "    y = np.array(power_iter_errors).astype(np.float32),\n",
    "    mode = 'lines',\n",
    "    name = 'Vanilla Power Iteration'\n",
    ")\n",
    "\n",
    "data = [trace1]\n",
    "py.iplot(data, filename='power-iteration-errors')"
   ]
  },
  {
   "cell_type": "markdown",
   "metadata": {},
   "source": [
    "### c) ###"
   ]
  },
  {
   "cell_type": "code",
   "execution_count": 135,
   "metadata": {
    "scrolled": true
   },
   "outputs": [
    {
     "name": "stdout",
     "output_type": "stream",
     "text": [
      "(9.29175448824336+0j)\n",
      "(9.743079840789322+0j)\n",
      "(-11.771669880134658+0j)\n",
      "(8.68909061774447+0j)\n",
      "(-7.94889825984543+0j)\n",
      "(7.8916627256569+0j)\n",
      "(-2.671696759426164+0j)\n",
      "(3.0251496294347975+0j)\n",
      "(2.5697279549972256+0j)\n",
      "(-2.6400031490969655+0j)\n",
      "(2.645751310551427+0j)\n",
      "(-2.6457513110645907+0j)\n",
      "(2.645751311064591+0j)\n",
      "(-2.6457513110645903+0j)\n"
     ]
    },
    {
     "name": "stderr",
     "output_type": "stream",
     "text": [
      "/nfs/ug/homes-5/l/litian17/venvs/jupyter-venv/lib/python2.7/site-packages/ipykernel_launcher.py:36: ComplexWarning:\n",
      "\n",
      "Casting complex values to real discards the imaginary part\n",
      "\n",
      "/nfs/ug/homes-5/l/litian17/venvs/jupyter-venv/lib/python2.7/site-packages/ipykernel_launcher.py:42: ComplexWarning:\n",
      "\n",
      "Casting complex values to real discards the imaginary part\n",
      "\n"
     ]
    },
    {
     "data": {
      "application/vnd.plotly.v1+json": {
       "data": [
        {
         "mode": "lines",
         "name": "Vanilla Power Iteration",
         "type": "scatter",
         "uid": "813d61c4-cb60-11e8-b4cc-086266448fb7",
         "x": [
          0,
          1,
          2,
          3,
          4,
          5,
          6,
          7,
          8,
          9,
          10,
          11,
          12,
          13,
          14
         ],
         "y": [
          0,
          -0.44040143489837646,
          -0.7513322830200195,
          -1.05342698097229,
          -1.2500616312026978,
          -1.4303371906280518,
          -1.6483545303344727,
          -1.6770297288894653,
          -1.9001500606536865,
          -1.9889894723892212,
          -2.0903823375701904,
          -2.1756176948547363,
          -2.3395724296569824,
          -2.328115224838257,
          -2.461974620819092
         ]
        },
        {
         "mode": "lines",
         "name": "Shifted Inverse",
         "type": "scatter",
         "uid": "813d61c5-cb60-11e8-b4cc-086266448fb7",
         "x": [
          0,
          1,
          2,
          3,
          4,
          5,
          6,
          7,
          8,
          9,
          10,
          11,
          12,
          13,
          14
         ],
         "y": [
          0,
          -4.614780902862549,
          -6.547689914703369,
          -6.726407051086426,
          -7.043034553527832,
          -6.977737903594971,
          -7.097506046295166,
          -7.049484729766846,
          -7.124770641326904,
          -7.093116283416748,
          -7.154465198516846,
          -7.131286144256592,
          -7.18581485748291,
          -7.1670145988464355,
          -7.216625690460205
         ]
        },
        {
         "mode": "lines",
         "name": "Rayleigh",
         "type": "scatter",
         "uid": "813d61c6-cb60-11e8-b4cc-086266448fb7",
         "x": [
          0,
          1,
          2,
          3,
          4,
          5,
          6,
          7,
          8,
          9,
          10,
          11,
          12,
          13,
          14
         ],
         "y": [
          0,
          -4.616416931152344,
          -6.552705764770508,
          -7.712711334228516,
          -9.490235328674316,
          -11.98879337310791,
          -16.736087799072266,
          -17.161157608032227,
          -17.21868133544922,
          -17.323894500732422,
          -17.32868003845215,
          -17.32868003845215,
          -17.32868003845215,
          -17.32868003845215,
          -17.32868003845215
         ]
        }
       ],
       "layout": {}
      },
      "text/html": [
       "<div id=\"776e3e5d-5b16-4e31-b8e6-cf721166da6c\" style=\"height: 525px; width: 100%;\" class=\"plotly-graph-div\"></div><script type=\"text/javascript\">require([\"plotly\"], function(Plotly) { window.PLOTLYENV=window.PLOTLYENV || {};window.PLOTLYENV.BASE_URL=\"https://plot.ly\";Plotly.newPlot(\"776e3e5d-5b16-4e31-b8e6-cf721166da6c\", [{\"uid\": \"813d61c7-cb60-11e8-b4cc-086266448fb7\", \"mode\": \"lines\", \"y\": [0.0, -0.44040143489837646, -0.7513322830200195, -1.05342698097229, -1.2500616312026978, -1.4303371906280518, -1.6483545303344727, -1.6770297288894653, -1.9001500606536865, -1.9889894723892212, -2.0903823375701904, -2.1756176948547363, -2.3395724296569824, -2.328115224838257, -2.461974620819092], \"x\": [0, 1, 2, 3, 4, 5, 6, 7, 8, 9, 10, 11, 12, 13, 14], \"type\": \"scatter\", \"name\": \"Vanilla Power Iteration\"}, {\"uid\": \"813d61c8-cb60-11e8-b4cc-086266448fb7\", \"mode\": \"lines\", \"y\": [0.0, -4.614780902862549, -6.547689914703369, -6.726407051086426, -7.043034553527832, -6.977737903594971, -7.097506046295166, -7.049484729766846, -7.124770641326904, -7.093116283416748, -7.154465198516846, -7.131286144256592, -7.18581485748291, -7.1670145988464355, -7.216625690460205], \"x\": [0, 1, 2, 3, 4, 5, 6, 7, 8, 9, 10, 11, 12, 13, 14], \"type\": \"scatter\", \"name\": \"Shifted Inverse\"}, {\"uid\": \"813d61c9-cb60-11e8-b4cc-086266448fb7\", \"mode\": \"lines\", \"y\": [0.0, -4.616416931152344, -6.552705764770508, -7.712711334228516, -9.490235328674316, -11.98879337310791, -16.736087799072266, -17.161157608032227, -17.21868133544922, -17.323894500732422, -17.32868003845215, -17.32868003845215, -17.32868003845215, -17.32868003845215, -17.32868003845215], \"x\": [0, 1, 2, 3, 4, 5, 6, 7, 8, 9, 10, 11, 12, 13, 14], \"type\": \"scatter\", \"name\": \"Rayleigh\"}], {}, {\"linkText\": \"Export to plot.ly\", \"showLink\": true})});</script>"
      ],
      "text/vnd.plotly.v1+html": [
       "<div id=\"776e3e5d-5b16-4e31-b8e6-cf721166da6c\" style=\"height: 525px; width: 100%;\" class=\"plotly-graph-div\"></div><script type=\"text/javascript\">require([\"plotly\"], function(Plotly) { window.PLOTLYENV=window.PLOTLYENV || {};window.PLOTLYENV.BASE_URL=\"https://plot.ly\";Plotly.newPlot(\"776e3e5d-5b16-4e31-b8e6-cf721166da6c\", [{\"uid\": \"813d61c7-cb60-11e8-b4cc-086266448fb7\", \"mode\": \"lines\", \"y\": [0.0, -0.44040143489837646, -0.7513322830200195, -1.05342698097229, -1.2500616312026978, -1.4303371906280518, -1.6483545303344727, -1.6770297288894653, -1.9001500606536865, -1.9889894723892212, -2.0903823375701904, -2.1756176948547363, -2.3395724296569824, -2.328115224838257, -2.461974620819092], \"x\": [0, 1, 2, 3, 4, 5, 6, 7, 8, 9, 10, 11, 12, 13, 14], \"type\": \"scatter\", \"name\": \"Vanilla Power Iteration\"}, {\"uid\": \"813d61c8-cb60-11e8-b4cc-086266448fb7\", \"mode\": \"lines\", \"y\": [0.0, -4.614780902862549, -6.547689914703369, -6.726407051086426, -7.043034553527832, -6.977737903594971, -7.097506046295166, -7.049484729766846, -7.124770641326904, -7.093116283416748, -7.154465198516846, -7.131286144256592, -7.18581485748291, -7.1670145988464355, -7.216625690460205], \"x\": [0, 1, 2, 3, 4, 5, 6, 7, 8, 9, 10, 11, 12, 13, 14], \"type\": \"scatter\", \"name\": \"Shifted Inverse\"}, {\"uid\": \"813d61c9-cb60-11e8-b4cc-086266448fb7\", \"mode\": \"lines\", \"y\": [0.0, -4.616416931152344, -6.552705764770508, -7.712711334228516, -9.490235328674316, -11.98879337310791, -16.736087799072266, -17.161157608032227, -17.21868133544922, -17.323894500732422, -17.32868003845215, -17.32868003845215, -17.32868003845215, -17.32868003845215, -17.32868003845215], \"x\": [0, 1, 2, 3, 4, 5, 6, 7, 8, 9, 10, 11, 12, 13, 14], \"type\": \"scatter\", \"name\": \"Rayleigh\"}], {}, {\"linkText\": \"Export to plot.ly\", \"showLink\": true})});</script>"
      ]
     },
     "metadata": {},
     "output_type": "display_data"
    }
   ],
   "source": [
    "# Shifted inverse power iteration algorithm.\n",
    "shifted_power_iter_errors = [0]\n",
    "sigma = 0.99\n",
    "x_2 = init_x(len(A))\n",
    "x_2 /= norm(x_2)\n",
    "shifted_inverse = np.linalg.inv(A - sigma * identity)\n",
    "for i in range(power_iters):\n",
    "    y = np.matmul(shifted_inverse, x_2)\n",
    "    x_2 = y / norm(y)\n",
    "    A_x = np.matmul(A, x_2)\n",
    "    err = np.log(norm(A_x - x_2))\n",
    "    shifted_power_iter_errors.append(err)\n",
    "\n",
    "# Rayleigh quotient iteration algorithm.\n",
    "# This one gives the lowest error so we will use its result\n",
    "# for our PageRank analysis.\n",
    "rayleigh_iter_errors = [0]\n",
    "sigma = 0.99\n",
    "x_3 = init_x(len(A))\n",
    "x_3 /= norm(x_3)\n",
    "for i in range(power_iters):\n",
    "    if i > 1:\n",
    "        numerator = np.matmul(x_3.T, A_x)\n",
    "        sigma = numerator / np.matmul(x_3.T, x_3)\n",
    "    shifted_inverse = np.linalg.inv(A - sigma * identity)\n",
    "    y = np.matmul(shifted_inverse, x_3)\n",
    "    x_3 = y / norm(y)\n",
    "    print(np.sum(x_3))\n",
    "    A_x = np.matmul(A, x_3)\n",
    "    err = np.log(norm(A_x - x_3))\n",
    "    rayleigh_iter_errors.append(err)\n",
    "\n",
    "# Plotting.\n",
    "trace2 = go.Scatter(\n",
    "    x = np.arange(len(shifted_power_iter_errors)),\n",
    "    y = np.array(shifted_power_iter_errors).astype(np.float32),\n",
    "    mode = 'lines',\n",
    "    name = 'Shifted Inverse'\n",
    ")\n",
    "trace3 = go.Scatter(\n",
    "    x = np.arange(len(rayleigh_iter_errors)),\n",
    "    y = np.array(rayleigh_iter_errors).astype(np.float32),\n",
    "    mode = 'lines',\n",
    "    name = 'Rayleigh'\n",
    ")\n",
    "data = [trace1, trace2, trace3]\n",
    "py.iplot(data, filename='all-algos-iteration-errors')"
   ]
  },
  {
   "cell_type": "markdown",
   "metadata": {},
   "source": [
    "### d) ###"
   ]
  },
  {
   "cell_type": "code",
   "execution_count": 136,
   "metadata": {
    "scrolled": true
   },
   "outputs": [
    {
     "name": "stdout",
     "output_type": "stream",
     "text": [
      "(-2.6457513110645903+0j)\n",
      "The top 10 page indices along with PageRank scores:\n",
      "Page Index: 2555, Score: 0.14285714285714288\n",
      "Page Index: 2552, Score: 0.14285714285714285\n",
      "Page Index: 2553, Score: 0.14285714285714285\n",
      "Page Index: 2554, Score: 0.14285714285714285\n",
      "Page Index: 2556, Score: 0.14285714285714285\n",
      "Page Index: 2512, Score: 0.14285714285714285\n",
      "Page Index: 2557, Score: 0.14285714285714285\n",
      "Page Index: 1612, Score: 1.351317062357362e-34\n",
      "Page Index: 443, Score: 6.227563127878136e-35\n",
      "Page Index: 437, Score: 6.168253007762668e-35\n",
      " \n",
      " \n",
      "The bottom 10 page indices along with PageRank scores:\n",
      "Page Index: 316, Score: 2.411455379057349e-120\n",
      "Page Index: 10, Score: 2.3360406784145444e-120\n",
      "Page Index: 93, Score: 2.206822379873865e-120\n",
      "Page Index: 4, Score: 2.0841810929953754e-120\n",
      "Page Index: 1, Score: 1.5245926609905587e-120\n",
      "Page Index: 400, Score: 1.3724006377271358e-120\n",
      "Page Index: 5, Score: 1.2974347307150301e-120\n",
      "Page Index: 20, Score: 1.0433562301601864e-120\n",
      "Page Index: 48, Score: 6.7440233536645825e-121\n",
      "Page Index: 399, Score: 5.382947258968965e-121\n"
     ]
    }
   ],
   "source": [
    "k = 10\n",
    "print(np.sum(x_3))\n",
    "x = np.abs(x_3)\n",
    "x = x / np.sum(x)\n",
    "sorted_indices = x.argsort()\n",
    "max_indices = sorted_indices[-k:][::-1]\n",
    "min_indices = sorted_indices[:k][::-1]\n",
    "\n",
    "# Top scores.\n",
    "print('The top 10 page indices along with PageRank scores:')\n",
    "for i in range(k):\n",
    "    idx = max_indices[i]\n",
    "    print('Page Index: ' + str(1 + idx) + ', Score: ' + str(x[idx]))\n",
    "\n",
    "print(' ')\n",
    "print(' ')\n",
    "\n",
    "# Bottommost scores.\n",
    "print('The bottom 10 page indices along with PageRank scores:')\n",
    "for i in range(k):\n",
    "    idx = min_indices[i]\n",
    "    print('Page Index: ' + str(1 + idx) + ', Score: ' + str(x[idx]))"
   ]
  },
  {
   "cell_type": "markdown",
   "metadata": {},
   "source": []
  },
  {
   "cell_type": "code",
   "execution_count": null,
   "metadata": {},
   "outputs": [],
   "source": []
  }
 ],
 "metadata": {
  "kernelspec": {
   "display_name": "Python 2",
   "language": "python",
   "name": "python2"
  },
  "language_info": {
   "codemirror_mode": {
    "name": "ipython",
    "version": 2
   },
   "file_extension": ".py",
   "mimetype": "text/x-python",
   "name": "python",
   "nbconvert_exporter": "python",
   "pygments_lexer": "ipython2",
   "version": "2.7.13"
  }
 },
 "nbformat": 4,
 "nbformat_minor": 2
}
