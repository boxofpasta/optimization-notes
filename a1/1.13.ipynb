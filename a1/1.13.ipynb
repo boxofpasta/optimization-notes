{
 "cells": [
  {
   "cell_type": "markdown",
   "metadata": {},
   "source": [
    "## 1.13 ##\n",
    "\n",
    "$\\newcommand{\\norm}[1]{\\Vert #1 \\Vert}$\n",
    "$\\newcommand{\\intpi}[1]{\\int_{-\\pi}^{\\pi} #1 dx}$\n",
    "\n",
    "### a) ###\n",
    "Here is the procedure for the first 2 basis vectors.\n",
    "\n",
    "$e^{(0)}$:\n",
    "\n",
    "$\\intpi{x^0} = \\intpi{1} = 2\\pi$\n",
    "\n",
    "So $e^{(0)} = \\dfrac{1}{\\sqrt{2\\pi}}$\n",
    "\n",
    "$e^{(1)}$:\n",
    "\n",
    "$proj_{e^{(0)}}v^{(1)} = \\dfrac{1}{\\sqrt{2\\pi}}\\intpi{x}$\n",
    "\n",
    "$u = v^{(1)} - proj_{e^{(0)}}v^{(1)}e^{(0)} = v^{(1)} - \\dfrac{1}{2\\pi}\\intpi{x}$\n",
    "\n",
    "$e^{(1)} = \\dfrac{u}{\\norm{u}}$\n",
    "\n",
    "This is pretty repetitive afterwards, so I put it in code."
   ]
  },
  {
   "cell_type": "code",
   "execution_count": 1,
   "metadata": {},
   "outputs": [],
   "source": [
    "import scipy.integrate as integrate\n",
    "import numpy as np\n",
    "\n",
    "max_allowable_err = 1E-5\n",
    "\n",
    "# Gets the value of the polynomial with the given coeffs, \n",
    "# c[0] * 1, ..., + c[n] * x ** n.\n",
    "def get_poly(x, c):\n",
    "    sum = 0.0\n",
    "    for i in range(len(c)):\n",
    "        sum += c[i] * x**i\n",
    "    return sum\n",
    "\n",
    "# We're always doing integration from -pi to pi.\n",
    "def pi_integrate(f):\n",
    "    result, max_err = integrate.quad(f, -np.pi, np.pi)\n",
    "    err_message = 'Upper bound on integration error was: ' + str(max_err)\n",
    "    assert max_err < max_allowable_err, err_message\n",
    "    return result\n",
    "\n",
    "# E.g coeffs[4] stores the 5 coefficients for the final basis vector computed \n",
    "# from Graham-Schmidt. \n",
    "coeffs = []\n",
    "\n",
    "# The first basis vector has already been computed analytically.\n",
    "coeffs.append([ 1.0 / np.sqrt(2 * np.pi) ])\n",
    "max_power = 5\n",
    "\n",
    "# Compute the bases e^(1), ..., e^(max_power).\n",
    "for i in range(1, max_power + 1):\n",
    "    \n",
    "    # Get the projection coefficients.\n",
    "    v = lambda x: x ** i\n",
    "    proj_coeffs = []\n",
    "    for j in range(0, i):\n",
    "        basis = lambda x: get_poly(x, coeffs[j])\n",
    "        proj_coeff = pi_integrate(lambda x: v(x) * basis(x))\n",
    "        proj_coeffs.append(proj_coeff)\n",
    "        \n",
    "    # Aggregate coefficients for each polynomial.\n",
    "    unnorm_coeffs = [0] * i\n",
    "    for j in range(len(proj_coeffs)):\n",
    "        for k in range(len(coeffs[j])):\n",
    "            unnorm_coeffs[k] -= proj_coeffs[j] * coeffs[j][k]\n",
    "    \n",
    "    # Subtract the projections and get the norm.\n",
    "    subtracted = lambda x: v(x) + get_poly(x, unnorm_coeffs)\n",
    "    norm_func = lambda x: subtracted(x) * subtracted(x)\n",
    "    norm = np.sqrt(np.abs(pi_integrate(norm_func)))\n",
    "    coeffs.append([])\n",
    "    for j in range(0, i):\n",
    "        coeffs[i].append(unnorm_coeffs[j] / norm)\n",
    "    coeffs[i].append(1.0 / norm)\n",
    "\n",
    "# Test orthonormality.\n",
    "for i in range(max_power + 1):\n",
    "    for j in range(i, max_power + 1):\n",
    "        f = lambda x: get_poly(x, coeffs[i]) * get_poly(x, coeffs[j])\n",
    "        inner_prod = np.sqrt(np.abs(pi_integrate(f)))\n",
    "        if i == j:\n",
    "            assert np.abs(inner_prod - 1.0) < max_allowable_err\n",
    "        else:\n",
    "            assert np.abs(inner_prod) < max_allowable_err"
   ]
  },
  {
   "cell_type": "markdown",
   "metadata": {},
   "source": [
    "The resulting coefficients vector $\\alpha$ for each of $e^{(0)}, ..., e^{(5)}$ is printed below:"
   ]
  },
  {
   "cell_type": "code",
   "execution_count": 2,
   "metadata": {},
   "outputs": [
    {
     "name": "stdout",
     "output_type": "stream",
     "text": [
      "The alpha(coefficients) vector for e^(0):\n",
      "[0.39894228]\n",
      "\n",
      "The alpha(coefficients) vector for e^(1):\n",
      "[0.         0.21994841]\n",
      "\n",
      "The alpha(coefficients) vector for e^(2):\n",
      "[-0.44603103  0.          0.13557718]\n",
      "\n",
      "The alpha(coefficients) vector for e^(3):\n",
      "[ 0.         -0.50396511  0.          0.0851039 ]\n",
      "\n",
      "The alpha(coefficients) vector for e^(4):\n",
      "[ 0.44881007  0.         -0.45473967  0.          0.05375389]\n",
      "\n",
      "The alpha(coefficients) vector for e^(5):\n",
      "[ 0.          0.78969213  0.         -0.37339186  0.          0.03404925]\n",
      "\n"
     ]
    }
   ],
   "source": [
    "np.set_printoptions(precision=8)\n",
    "np.set_printoptions(suppress=True)\n",
    "for i, alpha in enumerate(coeffs):\n",
    "    print('The alpha(coefficients) vector for e^(%d):' % i)\n",
    "    print(np.array(alpha))\n",
    "    print('')"
   ]
  },
  {
   "cell_type": "markdown",
   "metadata": {},
   "source": [
    "### b) ###\n",
    "To compute the $\\alpha$ coefficients for $sin(x)$, we need to add up all the inner products of $sin(x)$ with our orthonormal basis."
   ]
  },
  {
   "cell_type": "code",
   "execution_count": 89,
   "metadata": {},
   "outputs": [
    {
     "name": "stdout",
     "output_type": "stream",
     "text": [
      "Alphas(from a_0 to a_5):\n",
      "[ 0.          0.98786214  0.         -0.15527141  0.          0.00564312]\n"
     ]
    }
   ],
   "source": [
    "# Compute projection coefficients.\n",
    "basis_coeffs = []\n",
    "for i in range(len(coeffs)):\n",
    "    f = lambda x: np.sin(x) * get_poly(x, coeffs[i])\n",
    "    basis_coeff = pi_integrate(f)\n",
    "    basis_coeffs.append(basis_coeff)\n",
    "\n",
    "# Aggregate.\n",
    "alphas = [0] * (max_power + 1)\n",
    "for i in range(len(basis_coeffs)):\n",
    "    for j in range(len(coeffs[i])):\n",
    "        alphas[j] += basis_coeffs[i] * coeffs[i][j]\n",
    "\n",
    "print('Alphas(from a_0 to a_5):')\n",
    "print(np.array(alphas))    "
   ]
  },
  {
   "cell_type": "markdown",
   "metadata": {},
   "source": [
    "### c) ###\n",
    "The even coefficients are all 0. This makes intuitive sense because $sin(x)$ is an odd function and should not have any non-zero even components, especially since it is vertically centered at $y = 0$.\n",
    "\n",
    "### d) ###\n",
    "\n",
    "The Taylor approximation is very good for the interval $ [-\\dfrac{\\pi}{2}, \\dfrac{\\pi}{2}]$, and starts to diverge outside of this interval.\n",
    "\n",
    "The orthonormal polynomial basis projection is a better approximator for the function over the entire interval because we explicitly optimized for the pointwise squared difference. That is, it is important to approximate well at all points, and not just near the origin. \n",
    "\n",
    "The Taylor series approximates well at the origin as it is a _local_ descriptor and uses derivatives at the origin only. \n",
    "\n",
    "Plots below:"
   ]
  },
  {
   "cell_type": "code",
   "execution_count": 1,
   "metadata": {},
   "outputs": [
    {
     "ename": "ImportError",
     "evalue": "No module named _plotly_utils.basevalidators",
     "output_type": "error",
     "traceback": [
      "\u001b[0;31m---------------------------------------------------------------------------\u001b[0m",
      "\u001b[0;31mImportError\u001b[0m                               Traceback (most recent call last)",
      "\u001b[0;32m<ipython-input-1-450a6d70907a>\u001b[0m in \u001b[0;36m<module>\u001b[0;34m()\u001b[0m\n\u001b[0;32m----> 1\u001b[0;31m \u001b[0;32mimport\u001b[0m \u001b[0mplotly\u001b[0m\u001b[0;34m.\u001b[0m\u001b[0moffline\u001b[0m \u001b[0;32mas\u001b[0m \u001b[0mpy\u001b[0m\u001b[0;34m\u001b[0m\u001b[0m\n\u001b[0m\u001b[1;32m      2\u001b[0m \u001b[0;32mimport\u001b[0m \u001b[0mplotly\u001b[0m\u001b[0;34m.\u001b[0m\u001b[0mgraph_objs\u001b[0m \u001b[0;32mas\u001b[0m \u001b[0mgo\u001b[0m\u001b[0;34m\u001b[0m\u001b[0m\n\u001b[1;32m      3\u001b[0m \u001b[0mpy\u001b[0m\u001b[0;34m.\u001b[0m\u001b[0moffline\u001b[0m\u001b[0;34m.\u001b[0m\u001b[0minit_notebook_mode\u001b[0m\u001b[0;34m(\u001b[0m\u001b[0mconnected\u001b[0m\u001b[0;34m=\u001b[0m\u001b[0mTrue\u001b[0m\u001b[0;34m)\u001b[0m\u001b[0;34m\u001b[0m\u001b[0m\n\u001b[1;32m      4\u001b[0m \u001b[0;34m\u001b[0m\u001b[0m\n\u001b[1;32m      5\u001b[0m \u001b[0mN\u001b[0m \u001b[0;34m=\u001b[0m \u001b[0;36m200\u001b[0m\u001b[0;34m\u001b[0m\u001b[0m\n",
      "\u001b[0;32m/nfs/ug/homes-5/l/litian17/venvs/jupyter-venv/local/lib/python2.7/site-packages/plotly/__init__.pyc\u001b[0m in \u001b[0;36m<module>\u001b[0;34m()\u001b[0m\n\u001b[1;32m     29\u001b[0m \u001b[0;32mfrom\u001b[0m \u001b[0m__future__\u001b[0m \u001b[0;32mimport\u001b[0m \u001b[0mabsolute_import\u001b[0m\u001b[0;34m\u001b[0m\u001b[0m\n\u001b[1;32m     30\u001b[0m \u001b[0;34m\u001b[0m\u001b[0m\n\u001b[0;32m---> 31\u001b[0;31m from plotly import (plotly, dashboard_objs, graph_objs, grid_objs, tools,\n\u001b[0m\u001b[1;32m     32\u001b[0m                     utils, session, offline, colors, io)\n\u001b[1;32m     33\u001b[0m \u001b[0;32mfrom\u001b[0m \u001b[0mplotly\u001b[0m\u001b[0;34m.\u001b[0m\u001b[0mversion\u001b[0m \u001b[0;32mimport\u001b[0m \u001b[0m__version__\u001b[0m\u001b[0;34m\u001b[0m\u001b[0m\n",
      "\u001b[0;32m/nfs/ug/homes-5/l/litian17/venvs/jupyter-venv/local/lib/python2.7/site-packages/plotly/plotly/__init__.py\u001b[0m in \u001b[0;36m<module>\u001b[0;34m()\u001b[0m\n\u001b[1;32m      8\u001b[0m \u001b[0;34m\u001b[0m\u001b[0m\n\u001b[1;32m      9\u001b[0m \"\"\"\n\u001b[0;32m---> 10\u001b[0;31m from . plotly import (\n\u001b[0m\u001b[1;32m     11\u001b[0m     \u001b[0msign_in\u001b[0m\u001b[0;34m,\u001b[0m\u001b[0;34m\u001b[0m\u001b[0m\n\u001b[1;32m     12\u001b[0m     \u001b[0mupdate_plot_options\u001b[0m\u001b[0;34m,\u001b[0m\u001b[0;34m\u001b[0m\u001b[0m\n",
      "\u001b[0;32m/nfs/ug/homes-5/l/litian17/venvs/jupyter-venv/local/lib/python2.7/site-packages/plotly/plotly/plotly.py\u001b[0m in \u001b[0;36m<module>\u001b[0;34m()\u001b[0m\n\u001b[1;32m     30\u001b[0m \u001b[0;32mfrom\u001b[0m \u001b[0mplotly\u001b[0m \u001b[0;32mimport\u001b[0m \u001b[0mexceptions\u001b[0m\u001b[0;34m,\u001b[0m \u001b[0mfiles\u001b[0m\u001b[0;34m,\u001b[0m \u001b[0msession\u001b[0m\u001b[0;34m,\u001b[0m \u001b[0mtools\u001b[0m\u001b[0;34m,\u001b[0m \u001b[0mutils\u001b[0m\u001b[0;34m\u001b[0m\u001b[0m\n\u001b[1;32m     31\u001b[0m \u001b[0;32mfrom\u001b[0m \u001b[0mplotly\u001b[0m\u001b[0;34m.\u001b[0m\u001b[0mapi\u001b[0m \u001b[0;32mimport\u001b[0m \u001b[0mv1\u001b[0m\u001b[0;34m,\u001b[0m \u001b[0mv2\u001b[0m\u001b[0;34m\u001b[0m\u001b[0m\n\u001b[0;32m---> 32\u001b[0;31m \u001b[0;32mfrom\u001b[0m \u001b[0mplotly\u001b[0m\u001b[0;34m.\u001b[0m\u001b[0mbasedatatypes\u001b[0m \u001b[0;32mimport\u001b[0m \u001b[0mBaseTraceType\u001b[0m\u001b[0;34m,\u001b[0m \u001b[0mBaseFigure\u001b[0m\u001b[0;34m,\u001b[0m \u001b[0mBaseLayoutType\u001b[0m\u001b[0;34m\u001b[0m\u001b[0m\n\u001b[0m\u001b[1;32m     33\u001b[0m \u001b[0;32mfrom\u001b[0m \u001b[0mplotly\u001b[0m\u001b[0;34m.\u001b[0m\u001b[0mplotly\u001b[0m \u001b[0;32mimport\u001b[0m \u001b[0mchunked_requests\u001b[0m\u001b[0;34m\u001b[0m\u001b[0m\n\u001b[1;32m     34\u001b[0m \u001b[0;34m\u001b[0m\u001b[0m\n",
      "\u001b[0;32m/nfs/ug/homes-5/l/litian17/venvs/jupyter-venv/local/lib/python2.7/site-packages/plotly/basedatatypes.py\u001b[0m in \u001b[0;36m<module>\u001b[0;34m()\u001b[0m\n\u001b[1;32m     11\u001b[0m \u001b[0;34m\u001b[0m\u001b[0m\n\u001b[1;32m     12\u001b[0m \u001b[0;32mfrom\u001b[0m \u001b[0;34m.\u001b[0m \u001b[0;32mimport\u001b[0m \u001b[0moffline\u001b[0m \u001b[0;32mas\u001b[0m \u001b[0mpyo\u001b[0m\u001b[0;34m\u001b[0m\u001b[0m\n\u001b[0;32m---> 13\u001b[0;31m from _plotly_utils.basevalidators import (\n\u001b[0m\u001b[1;32m     14\u001b[0m     \u001b[0mCompoundValidator\u001b[0m\u001b[0;34m,\u001b[0m \u001b[0mCompoundArrayValidator\u001b[0m\u001b[0;34m,\u001b[0m \u001b[0mBaseDataValidator\u001b[0m\u001b[0;34m,\u001b[0m\u001b[0;34m\u001b[0m\u001b[0m\n\u001b[1;32m     15\u001b[0m     \u001b[0mBaseValidator\u001b[0m\u001b[0;34m,\u001b[0m \u001b[0mLiteralValidator\u001b[0m\u001b[0;34m\u001b[0m\u001b[0m\n",
      "\u001b[0;31mImportError\u001b[0m: No module named _plotly_utils.basevalidators"
     ]
    }
   ],
   "source": [
    "import plotly.offline as py\n",
    "import plotly.graph_objs as go\n",
    "py.offline.init_notebook_mode(connected=True)\n",
    "\n",
    "N = 200\n",
    "x = np.linspace(-1.4 * np.pi, 1.4 * np.pi, N)\n",
    "taylor_approx_f = lambda x: x - x ** 3 / 6.0 + x ** 5 / 120.0\n",
    "taylor_approx = np.array(map(taylor_approx_f, x))\n",
    "my_approx_f = lambda x: get_poly(x, alphas)\n",
    "my_approx = np.array(map(my_approx_f, x))\n",
    "\n",
    "taylor_approx_data = go.Scatter(x = x, y = taylor_approx, name='Taylor')\n",
    "my_approx_data = go.Scatter(x = x, y = my_approx, name='Orthonormal')\n",
    "py.iplot([taylor_approx_data, my_approx_data], filename='q1.13-d')"
   ]
  },
  {
   "cell_type": "code",
   "execution_count": null,
   "metadata": {},
   "outputs": [],
   "source": []
  }
 ],
 "metadata": {
  "kernelspec": {
   "display_name": "Python 2",
   "language": "python",
   "name": "python2"
  },
  "language_info": {
   "codemirror_mode": {
    "name": "ipython",
    "version": 2
   },
   "file_extension": ".py",
   "mimetype": "text/x-python",
   "name": "python",
   "nbconvert_exporter": "python",
   "pygments_lexer": "ipython2",
   "version": "2.7.13"
  }
 },
 "nbformat": 4,
 "nbformat_minor": 2
}
